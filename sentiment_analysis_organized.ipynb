{
  "nbformat": 4,
  "nbformat_minor": 0,
  "metadata": {
    "colab": {
      "name": "sentiment analysis organized",
      "provenance": [],
      "collapsed_sections": [],
      "authorship_tag": "ABX9TyPxZ6rWX3dq/qBncpS/Z+Qs"
    },
    "kernelspec": {
      "name": "python3",
      "display_name": "Python 3"
    },
    "accelerator": "TPU"
  },
  "cells": [
    {
      "cell_type": "code",
      "metadata": {
        "id": "-1aCEgG2M76F",
        "colab_type": "code",
        "colab": {
          "base_uri": "https://localhost:8080/",
          "height": 125
        },
        "outputId": "bdb445cd-c1de-4ec7-e7c8-2063760901e6"
      },
      "source": [
        "from google.colab import drive\n",
        "drive.mount('/content/drive')"
      ],
      "execution_count": 1,
      "outputs": [
        {
          "output_type": "stream",
          "text": [
            "Go to this URL in a browser: https://accounts.google.com/o/oauth2/auth?client_id=947318989803-6bn6qk8qdgf4n4g3pfee6491hc0brc4i.apps.googleusercontent.com&redirect_uri=urn%3aietf%3awg%3aoauth%3a2.0%3aoob&response_type=code&scope=email%20https%3a%2f%2fwww.googleapis.com%2fauth%2fdocs.test%20https%3a%2f%2fwww.googleapis.com%2fauth%2fdrive%20https%3a%2f%2fwww.googleapis.com%2fauth%2fdrive.photos.readonly%20https%3a%2f%2fwww.googleapis.com%2fauth%2fpeopleapi.readonly\n",
            "\n",
            "Enter your authorization code:\n",
            "··········\n",
            "Mounted at /content/drive\n"
          ],
          "name": "stdout"
        }
      ]
    },
    {
      "cell_type": "code",
      "metadata": {
        "id": "y2b1jboANGz7",
        "colab_type": "code",
        "colab": {
          "base_uri": "https://localhost:8080/",
          "height": 70
        },
        "outputId": "dd763049-0bcd-4efc-ffbb-c78e2da69cb5"
      },
      "source": [
        "import pandas as pd\n",
        "import pickle\n",
        "import re\n",
        "import string\n",
        "import numpy as np\n",
        "\n",
        "import tensorflow as tf\n",
        "print(tf.__version__)\n",
        "\n",
        "import matplotlib.pyplot as plt\n",
        "%matplotlib inline\n",
        "\n",
        "import nltk\n",
        "from nltk.corpus import stopwords\n",
        "nltk.download('stopwords')\n",
        "from  nltk.stem import SnowballStemmer\n",
        "\n",
        "\n",
        "from tensorflow.keras.preprocessing.text import Tokenizer\n",
        "from tensorflow.keras.preprocessing.sequence import pad_sequences\n",
        "from tensorflow.keras.utils import to_categorical\n",
        "from tensorflow.keras import regularizers\n",
        "from tensorflow.keras.layers import Activation, Embedding, Dropout, Flatten, MaxPooling1D, LSTM, Dense"
      ],
      "execution_count": 45,
      "outputs": [
        {
          "output_type": "stream",
          "text": [
            "2.2.0\n",
            "[nltk_data] Downloading package stopwords to /root/nltk_data...\n",
            "[nltk_data]   Package stopwords is already up-to-date!\n"
          ],
          "name": "stdout"
        }
      ]
    },
    {
      "cell_type": "code",
      "metadata": {
        "id": "vlSH_kUgOnVA",
        "colab_type": "code",
        "colab": {}
      },
      "source": [
        "stop_words = stopwords.words(\"english\")\n",
        "stemmer =  SnowballStemmer(\"english\")\n",
        "\n",
        "embedding_dim = 100\n",
        "max_length = 100\n",
        "trunc_type='post'\n",
        "padding_type='post'\n",
        "oov_tok = \"<OOV>\"\n",
        "training_size = 1600000"
      ],
      "execution_count": 46,
      "outputs": []
    },
    {
      "cell_type": "code",
      "metadata": {
        "id": "t-Y2hxqnxdUX",
        "colab_type": "code",
        "colab": {
          "base_uri": "https://localhost:8080/",
          "height": 54
        },
        "outputId": "39cdcf31-1659-4975-f4ec-a88d97d065e0"
      },
      "source": [
        "print(stop_words)"
      ],
      "execution_count": 47,
      "outputs": [
        {
          "output_type": "stream",
          "text": [
            "['i', 'me', 'my', 'myself', 'we', 'our', 'ours', 'ourselves', 'you', \"you're\", \"you've\", \"you'll\", \"you'd\", 'your', 'yours', 'yourself', 'yourselves', 'he', 'him', 'his', 'himself', 'she', \"she's\", 'her', 'hers', 'herself', 'it', \"it's\", 'its', 'itself', 'they', 'them', 'their', 'theirs', 'themselves', 'what', 'which', 'who', 'whom', 'this', 'that', \"that'll\", 'these', 'those', 'am', 'is', 'are', 'was', 'were', 'be', 'been', 'being', 'have', 'has', 'had', 'having', 'do', 'does', 'did', 'doing', 'a', 'an', 'the', 'and', 'but', 'if', 'or', 'because', 'as', 'until', 'while', 'of', 'at', 'by', 'for', 'with', 'about', 'against', 'between', 'into', 'through', 'during', 'before', 'after', 'above', 'below', 'to', 'from', 'up', 'down', 'in', 'out', 'on', 'off', 'over', 'under', 'again', 'further', 'then', 'once', 'here', 'there', 'when', 'where', 'why', 'how', 'all', 'any', 'both', 'each', 'few', 'more', 'most', 'other', 'some', 'such', 'no', 'nor', 'not', 'only', 'own', 'same', 'so', 'than', 'too', 'very', 's', 't', 'can', 'will', 'just', 'don', \"don't\", 'should', \"should've\", 'now', 'd', 'll', 'm', 'o', 're', 've', 'y', 'ain', 'aren', \"aren't\", 'couldn', \"couldn't\", 'didn', \"didn't\", 'doesn', \"doesn't\", 'hadn', \"hadn't\", 'hasn', \"hasn't\", 'haven', \"haven't\", 'isn', \"isn't\", 'ma', 'mightn', \"mightn't\", 'mustn', \"mustn't\", 'needn', \"needn't\", 'shan', \"shan't\", 'shouldn', \"shouldn't\", 'wasn', \"wasn't\", 'weren', \"weren't\", 'won', \"won't\", 'wouldn', \"wouldn't\"]\n"
          ],
          "name": "stdout"
        }
      ]
    },
    {
      "cell_type": "code",
      "metadata": {
        "id": "xUJvODe1NHAf",
        "colab_type": "code",
        "colab": {}
      },
      "source": [
        "DATASET_COLUMNS = [\"target\", \"ids\", \"date\", \"flag\", \"user\", \"text\"]\n",
        "DATASET_ENCODING = \"ISO-8859-1\""
      ],
      "execution_count": 4,
      "outputs": []
    },
    {
      "cell_type": "code",
      "metadata": {
        "id": "8z3KGgeONHKj",
        "colab_type": "code",
        "colab": {}
      },
      "source": [
        "#no need to run this cell as loaded preprocessed data is below\n",
        "dataset_path = '/content/drive/My Drive/trainingandtestdata/training_cleaned.csv'\n",
        "df = pd.read_csv(dataset_path, encoding =DATASET_ENCODING , names=DATASET_COLUMNS)"
      ],
      "execution_count": null,
      "outputs": []
    },
    {
      "cell_type": "code",
      "metadata": {
        "id": "XXL5q1-ANHVB",
        "colab_type": "code",
        "colab": {}
      },
      "source": [
        "#test data\n",
        "dataset_path_test = '/content/drive/My Drive/trainingandtestdata/testdata.manual.2009.06.14.csv'\n",
        "df_test = pd.read_csv(dataset_path_test, encoding =DATASET_ENCODING , names=DATASET_COLUMNS)\n",
        "\n",
        "df_filtered = df_test[df_test['target'] != 2]  #as test data have 3 labels, 0:negative, 2:neutral, 4:positive, so removing neutral data\n"
      ],
      "execution_count": 5,
      "outputs": []
    },
    {
      "cell_type": "code",
      "metadata": {
        "id": "NZtSecLONHfp",
        "colab_type": "code",
        "colab": {}
      },
      "source": [
        "#preprocessing functions\n",
        "def strip_links(text):\n",
        "    link_regex    = re.compile('((https?):((//)|(\\\\\\\\))+([\\w\\d:#@%/;$()~_?\\+-=\\\\\\.&](#!)?)*)', re.DOTALL)\n",
        "    links         = re.findall(link_regex, text)\n",
        "    for link in links:\n",
        "        text = text.replace(link[0], ', ')    \n",
        "    return text\n",
        "\n",
        "def strip_all_entities(text):\n",
        "    entity_prefixes = ['@','#']\n",
        "    for separator in  string.punctuation:\n",
        "        if separator not in entity_prefixes :\n",
        "            text = text.replace(separator,' ')\n",
        "    words = []\n",
        "    for word in text.split():\n",
        "        word = word.strip()\n",
        "        if word:\n",
        "            if word[0] not in entity_prefixes:\n",
        "                words.append(word)\n",
        "    return ' '.join(words)\n",
        "\n",
        "def preprocess(line):\n",
        "    line = line.lower()\n",
        "    #stopwords removal\n",
        "    for word in stop_words:\n",
        "      token = \" \" + word + \" \"\n",
        "      line = line.replace(token, \" \")\n",
        "      line = line.replace(\"  \", \" \")\n",
        "    #stemming   \n",
        "    tokens = []\n",
        "    for token in line.split():\n",
        "      tokens.append(stemmer.stem(token))\n",
        "    return \" \".join(tokens)\n"
      ],
      "execution_count": 6,
      "outputs": []
    },
    {
      "cell_type": "code",
      "metadata": {
        "id": "zzcTSnOkQDf_",
        "colab_type": "code",
        "colab": {}
      },
      "source": [
        "#load cleaned data after preprocessing\n",
        "df = pd.read_csv('/content/drive/My Drive/preprocess_text_label.csv')\n",
        "\n",
        "sentence = df['text'].astype(str)\n",
        "sentence = np.array(sentence)\n",
        "y = df['target'].astype(float)"
      ],
      "execution_count": 7,
      "outputs": []
    },
    {
      "cell_type": "code",
      "metadata": {
        "id": "En62Z5_cNHrO",
        "colab_type": "code",
        "colab": {
          "base_uri": "https://localhost:8080/",
          "height": 122
        },
        "outputId": "19edab07-c6a5-4b8e-b974-4962d29e22c8"
      },
      "source": [
        "#test data\n",
        "df_filtered.text = df_filtered.text.apply(lambda x: strip_links(x))\n",
        "df_filtered.text = df_filtered.text.apply(lambda x: strip_all_entities(x))\n",
        "df_filtered.text = df_filtered.text.apply(lambda x: preprocess(x))\n",
        "\n",
        "df_t = df_filtered.drop(columns=['ids','date','flag','user'])\n",
        "df_t['text'] = df_t['text'].astype(str)\n",
        "df_t['target'] = df_t['target'].astype(float)\n",
        "\n",
        "x_test = df_t['text'].astype(str)\n",
        "x_test = np.array(x_test)\n",
        "y_test = df_t['target'].astype(float)"
      ],
      "execution_count": 8,
      "outputs": [
        {
          "output_type": "stream",
          "text": [
            "/usr/local/lib/python3.6/dist-packages/pandas/core/generic.py:5303: SettingWithCopyWarning: \n",
            "A value is trying to be set on a copy of a slice from a DataFrame.\n",
            "Try using .loc[row_indexer,col_indexer] = value instead\n",
            "\n",
            "See the caveats in the documentation: https://pandas.pydata.org/pandas-docs/stable/user_guide/indexing.html#returning-a-view-versus-a-copy\n",
            "  self[name] = value\n"
          ],
          "name": "stderr"
        }
      ]
    },
    {
      "cell_type": "code",
      "metadata": {
        "id": "b9UGFS6sNI7r",
        "colab_type": "code",
        "colab": {}
      },
      "source": [
        "#tokenizer\n",
        "\n",
        "tokenizer= Tokenizer(oov_token=oov_tok)\n",
        "tokenizer.fit_on_texts(sentence)\n",
        "#word_index = tokenizer.word_index         #will not run this line of code as this is already saved and can be loaded easily\n",
        "#vocab_size=len(word_index)"
      ],
      "execution_count": 9,
      "outputs": []
    },
    {
      "cell_type": "code",
      "metadata": {
        "id": "3bS8YGD-fx9P",
        "colab_type": "code",
        "colab": {}
      },
      "source": [
        "#saving tokenizer\n",
        "pickle.dump(tokenizer, open(\"/content/drive/My Drive/sentiment analysis/tokenizer.p\", \"wb\"))"
      ],
      "execution_count": 22,
      "outputs": []
    },
    {
      "cell_type": "code",
      "metadata": {
        "id": "64XufXvrqsyJ",
        "colab_type": "code",
        "colab": {
          "base_uri": "https://localhost:8080/",
          "height": 122
        },
        "outputId": "e303e24e-aee6-49e5-b770-e82529ded174"
      },
      "source": [
        "print(y[:5])"
      ],
      "execution_count": 11,
      "outputs": [
        {
          "output_type": "stream",
          "text": [
            "0    0.0\n",
            "1    0.0\n",
            "2    4.0\n",
            "3    0.0\n",
            "4    0.0\n",
            "Name: target, dtype: float64\n"
          ],
          "name": "stdout"
        }
      ]
    },
    {
      "cell_type": "code",
      "metadata": {
        "id": "AjXpf6kGNJIm",
        "colab_type": "code",
        "colab": {
          "base_uri": "https://localhost:8080/",
          "height": 34
        },
        "outputId": "1fce1663-7e45-4b6f-e306-d82c13538d6c"
      },
      "source": [
        "##wordindex save\n",
        "#pickle.dump( word_index, open(\"/content/drive/My Drive/wordindex.p\", \"wb\"))\n",
        "\n",
        "#load word index file\n",
        "word_index = pickle.load(open(\"/content/drive/My Drive/sentiment analysis/wordindex.p\", \"rb\"))\n",
        "\n",
        "vocab_size = len(word_index)\n",
        "print(vocab_size)"
      ],
      "execution_count": 10,
      "outputs": [
        {
          "output_type": "stream",
          "text": [
            "247382\n"
          ],
          "name": "stdout"
        }
      ]
    },
    {
      "cell_type": "code",
      "metadata": {
        "id": "MsE-I0sUNJSh",
        "colab_type": "code",
        "colab": {}
      },
      "source": [
        "sequences = tokenizer.texts_to_sequences(sentence)\n",
        "padded = pad_sequences(sequences, maxlen=max_length, padding = padding_type, truncating=trunc_type)"
      ],
      "execution_count": 11,
      "outputs": []
    },
    {
      "cell_type": "code",
      "metadata": {
        "id": "3ikzrB5RNJba",
        "colab_type": "code",
        "colab": {}
      },
      "source": [
        "#test data \n",
        "t_seq = tokenizer.texts_to_sequences(x_test)\n",
        "t_pad = pad_sequences(t_seq, maxlen=max_length, padding=padding_type, truncating=trunc_type)\n",
        "\n",
        "y_test = y_test/4.0\n",
        "test_seq = t_pad\n"
      ],
      "execution_count": 12,
      "outputs": []
    },
    {
      "cell_type": "code",
      "metadata": {
        "id": "SsARjAxQNJkl",
        "colab_type": "code",
        "colab": {}
      },
      "source": [
        "#no need of this if we are not training model\n",
        "train_val_split = int(0.9 * training_size)\n",
        "\n",
        "train_sequences = padded[0:train_val_split] \n",
        "val_sequences = padded[train_val_split:]\n",
        "train_labels  = y[0:train_val_split] \n",
        "val_labels = y[train_val_split:]\n",
        "train_labels= train_labels/4.0              #positive labels were 4.0. so, making them 1.0\n",
        "val_labels = val_labels/4.0"
      ],
      "execution_count": 13,
      "outputs": []
    },
    {
      "cell_type": "code",
      "metadata": {
        "id": "Vj-xvoNnNJwM",
        "colab_type": "code",
        "colab": {
          "base_uri": "https://localhost:8080/",
          "height": 210
        },
        "outputId": "b18be208-ae11-422b-85a3-b05a7c6a9f6d"
      },
      "source": [
        "#no need to run this as we already have saved model\n",
        "\n",
        "# Note this is the 100 dimension version of GloVe from Stanford\n",
        "!wget --no-check-certificate \\\n",
        "    https://storage.googleapis.com/laurencemoroney-blog.appspot.com/glove.6B.100d.txt \\\n",
        "    -O /tmp/glove.6B.100d.txt\n",
        "embeddings_index = {};\n",
        "with open('/tmp/glove.6B.100d.txt') as file:\n",
        "    for line in file:\n",
        "        values = line.split();\n",
        "        word = values[0];\n",
        "        coefs = np.asarray(values[1:], dtype='float32');\n",
        "        embeddings_index[word] = coefs;\n",
        "\n",
        "embeddings_matrix = np.zeros((vocab_size+1, embedding_dim));\n",
        "for word, i in word_index.items():\n",
        "    embedding_vector = embeddings_index.get(word);\n",
        "    if embedding_vector is not None:\n",
        "        embeddings_matrix[i] = embedding_vector;"
      ],
      "execution_count": 14,
      "outputs": [
        {
          "output_type": "stream",
          "text": [
            "--2020-06-24 05:08:32--  https://storage.googleapis.com/laurencemoroney-blog.appspot.com/glove.6B.100d.txt\n",
            "Resolving storage.googleapis.com (storage.googleapis.com)... 108.177.111.128, 2607:f8b0:4001:c05::80\n",
            "Connecting to storage.googleapis.com (storage.googleapis.com)|108.177.111.128|:443... connected.\n",
            "HTTP request sent, awaiting response... 200 OK\n",
            "Length: 347116733 (331M) [text/plain]\n",
            "Saving to: ‘/tmp/glove.6B.100d.txt’\n",
            "\n",
            "/tmp/glove.6B.100d. 100%[===================>] 331.04M  72.6MB/s    in 4.3s    \n",
            "\n",
            "2020-06-24 05:08:37 (77.2 MB/s) - ‘/tmp/glove.6B.100d.txt’ saved [347116733/347116733]\n",
            "\n"
          ],
          "name": "stdout"
        }
      ]
    },
    {
      "cell_type": "code",
      "metadata": {
        "id": "I4_RH1GtNJ6z",
        "colab_type": "code",
        "colab": {
          "base_uri": "https://localhost:8080/",
          "height": 1000
        },
        "outputId": "45c980a4-c5c6-487f-f008-a7c7b474a614"
      },
      "source": [
        "#no need to run this, we'll be using saved model\n",
        "\n",
        "model = tf.keras.Sequential([\n",
        "   tf.keras.layers. Embedding(vocab_size+1, embedding_dim, weights=[embeddings_matrix], input_length=max_length, trainable=False),\n",
        "   tf.keras.layers.Dropout(0.3), \n",
        "   tf.keras.layers.Conv1D(128, 5, activation='relu'),\n",
        "   tf.keras.layers.MaxPooling1D(pool_size=2),\n",
        "   tf.keras.layers.Conv1D(256, 5, activation='relu'),\n",
        "   tf.keras.layers.MaxPooling1D(pool_size=2),\n",
        "    tf.keras.layers.LSTM(128, dropout=0.2, recurrent_dropout=0.2),\n",
        "    tf.keras.layers.Dense(1, activation='sigmoid')\n",
        "])\n",
        "model.compile(loss='binary_crossentropy', optimizer='adam', metrics='accuracy') \n",
        "model.summary()\n",
        "\n",
        "num_epochs = 35\n",
        "history = model.fit(train_sequences, train_labels, batch_size = 1024, epochs=num_epochs,steps_per_epoch=200, validation_data=(val_sequences, val_labels), verbose=2)\n",
        "\n",
        "print(\"Complete\")"
      ],
      "execution_count": 15,
      "outputs": [
        {
          "output_type": "stream",
          "text": [
            "Model: \"sequential\"\n",
            "_________________________________________________________________\n",
            "Layer (type)                 Output Shape              Param #   \n",
            "=================================================================\n",
            "embedding (Embedding)        (None, 100, 100)          24738300  \n",
            "_________________________________________________________________\n",
            "dropout (Dropout)            (None, 100, 100)          0         \n",
            "_________________________________________________________________\n",
            "conv1d (Conv1D)              (None, 96, 128)           64128     \n",
            "_________________________________________________________________\n",
            "max_pooling1d (MaxPooling1D) (None, 24, 128)           0         \n",
            "_________________________________________________________________\n",
            "conv1d_1 (Conv1D)            (None, 20, 256)           164096    \n",
            "_________________________________________________________________\n",
            "max_pooling1d_1 (MaxPooling1 (None, 5, 256)            0         \n",
            "_________________________________________________________________\n",
            "lstm (LSTM)                  (None, 128)               197120    \n",
            "_________________________________________________________________\n",
            "dense (Dense)                (None, 1)                 129       \n",
            "=================================================================\n",
            "Total params: 25,163,773\n",
            "Trainable params: 425,473\n",
            "Non-trainable params: 24,738,300\n",
            "_________________________________________________________________\n",
            "Epoch 1/35\n",
            "200/200 - 396s - loss: 0.6276 - accuracy: 0.6389 - val_loss: 0.5799 - val_accuracy: 0.6870\n",
            "Epoch 2/35\n",
            "200/200 - 394s - loss: 0.5881 - accuracy: 0.6784 - val_loss: 0.5587 - val_accuracy: 0.7075\n",
            "Epoch 3/35\n",
            "200/200 - 391s - loss: 0.5758 - accuracy: 0.6895 - val_loss: 0.5495 - val_accuracy: 0.7149\n",
            "Epoch 4/35\n",
            "200/200 - 396s - loss: 0.5700 - accuracy: 0.6947 - val_loss: 0.5437 - val_accuracy: 0.7199\n",
            "Epoch 5/35\n",
            "200/200 - 393s - loss: 0.5613 - accuracy: 0.7020 - val_loss: 0.5418 - val_accuracy: 0.7202\n",
            "Epoch 6/35\n",
            "200/200 - 388s - loss: 0.5594 - accuracy: 0.7037 - val_loss: 0.5359 - val_accuracy: 0.7261\n",
            "Epoch 7/35\n",
            "200/200 - 393s - loss: 0.5574 - accuracy: 0.7061 - val_loss: 0.5334 - val_accuracy: 0.7280\n",
            "Epoch 8/35\n",
            "200/200 - 395s - loss: 0.5505 - accuracy: 0.7126 - val_loss: 0.5372 - val_accuracy: 0.7219\n",
            "Epoch 9/35\n",
            "200/200 - 389s - loss: 0.5529 - accuracy: 0.7094 - val_loss: 0.5297 - val_accuracy: 0.7308\n",
            "Epoch 10/35\n",
            "200/200 - 390s - loss: 0.5482 - accuracy: 0.7136 - val_loss: 0.5330 - val_accuracy: 0.7316\n",
            "Epoch 11/35\n",
            "200/200 - 394s - loss: 0.5474 - accuracy: 0.7146 - val_loss: 0.5270 - val_accuracy: 0.7328\n",
            "Epoch 12/35\n",
            "200/200 - 392s - loss: 0.5436 - accuracy: 0.7178 - val_loss: 0.5263 - val_accuracy: 0.7335\n",
            "Epoch 13/35\n",
            "200/200 - 392s - loss: 0.5448 - accuracy: 0.7172 - val_loss: 0.5235 - val_accuracy: 0.7349\n",
            "Epoch 14/35\n",
            "200/200 - 389s - loss: 0.5442 - accuracy: 0.7162 - val_loss: 0.5236 - val_accuracy: 0.7362\n",
            "Epoch 15/35\n",
            "200/200 - 385s - loss: 0.5408 - accuracy: 0.7209 - val_loss: 0.5216 - val_accuracy: 0.7361\n",
            "Epoch 16/35\n",
            "200/200 - 386s - loss: 0.5402 - accuracy: 0.7209 - val_loss: 0.5231 - val_accuracy: 0.7356\n",
            "Epoch 17/35\n",
            "200/200 - 385s - loss: 0.5390 - accuracy: 0.7219 - val_loss: 0.5206 - val_accuracy: 0.7370\n",
            "Epoch 18/35\n",
            "200/200 - 390s - loss: 0.5375 - accuracy: 0.7216 - val_loss: 0.5205 - val_accuracy: 0.7373\n",
            "Epoch 19/35\n",
            "200/200 - 389s - loss: 0.5371 - accuracy: 0.7224 - val_loss: 0.5197 - val_accuracy: 0.7377\n",
            "Epoch 20/35\n",
            "200/200 - 386s - loss: 0.5357 - accuracy: 0.7239 - val_loss: 0.5176 - val_accuracy: 0.7389\n",
            "Epoch 21/35\n",
            "200/200 - 393s - loss: 0.5367 - accuracy: 0.7244 - val_loss: 0.5174 - val_accuracy: 0.7404\n",
            "Epoch 22/35\n",
            "200/200 - 390s - loss: 0.5316 - accuracy: 0.7272 - val_loss: 0.5171 - val_accuracy: 0.7398\n",
            "Epoch 23/35\n",
            "200/200 - 391s - loss: 0.5314 - accuracy: 0.7277 - val_loss: 0.5171 - val_accuracy: 0.7404\n",
            "Epoch 24/35\n",
            "200/200 - 393s - loss: 0.5321 - accuracy: 0.7271 - val_loss: 0.5154 - val_accuracy: 0.7411\n",
            "Epoch 25/35\n",
            "200/200 - 393s - loss: 0.5316 - accuracy: 0.7280 - val_loss: 0.5169 - val_accuracy: 0.7396\n",
            "Epoch 26/35\n",
            "200/200 - 392s - loss: 0.5325 - accuracy: 0.7271 - val_loss: 0.5157 - val_accuracy: 0.7407\n",
            "Epoch 27/35\n",
            "200/200 - 393s - loss: 0.5335 - accuracy: 0.7259 - val_loss: 0.5138 - val_accuracy: 0.7416\n",
            "Epoch 28/35\n",
            "200/200 - 394s - loss: 0.5330 - accuracy: 0.7261 - val_loss: 0.5154 - val_accuracy: 0.7412\n",
            "Epoch 29/35\n",
            "200/200 - 393s - loss: 0.5293 - accuracy: 0.7300 - val_loss: 0.5132 - val_accuracy: 0.7426\n",
            "Epoch 30/35\n",
            "200/200 - 394s - loss: 0.5274 - accuracy: 0.7297 - val_loss: 0.5126 - val_accuracy: 0.7431\n",
            "Epoch 31/35\n",
            "200/200 - 388s - loss: 0.5290 - accuracy: 0.7294 - val_loss: 0.5124 - val_accuracy: 0.7428\n",
            "Epoch 32/35\n",
            "200/200 - 392s - loss: 0.5278 - accuracy: 0.7306 - val_loss: 0.5119 - val_accuracy: 0.7434\n",
            "Epoch 33/35\n",
            "200/200 - 392s - loss: 0.5287 - accuracy: 0.7290 - val_loss: 0.5132 - val_accuracy: 0.7433\n",
            "Epoch 34/35\n",
            "200/200 - 389s - loss: 0.5298 - accuracy: 0.7290 - val_loss: 0.5114 - val_accuracy: 0.7424\n",
            "Epoch 35/35\n",
            "200/200 - 390s - loss: 0.5276 - accuracy: 0.7299 - val_loss: 0.5104 - val_accuracy: 0.7442\n",
            "Training Complete\n"
          ],
          "name": "stdout"
        }
      ]
    },
    {
      "cell_type": "code",
      "metadata": {
        "id": "6A_TwccJNKFE",
        "colab_type": "code",
        "colab": {
          "base_uri": "https://localhost:8080/",
          "height": 608
        },
        "outputId": "b95ac940-139c-460b-b3b7-b47dc0095e17"
      },
      "source": [
        "#will only work if above cell is run as this code plots training progress \n",
        "import matplotlib.image  as mpimg\n",
        "import matplotlib.pyplot as plt\n",
        "\n",
        "\n",
        "acc=history.history['accuracy']\n",
        "val_acc=history.history['val_accuracy']\n",
        "loss=history.history['loss']\n",
        "val_loss=history.history['val_loss']\n",
        "\n",
        "epochs=range(len(acc))\n",
        "plt.plot(epochs, acc, 'r')\n",
        "plt.plot(epochs, val_acc, 'b')\n",
        "plt.title('Training and validation accuracy')\n",
        "plt.xlabel(\"Epochs\")\n",
        "plt.ylabel(\"Accuracy\")\n",
        "plt.legend([\"Accuracy\", \"Validation Accuracy\"])\n",
        "\n",
        "plt.figure()\n",
        "\n",
        "\n",
        "plt.plot(epochs, loss, 'r')\n",
        "plt.plot(epochs, val_loss, 'b')\n",
        "plt.title('Training and validation loss')\n",
        "plt.xlabel(\"Epochs\")\n",
        "plt.ylabel(\"Loss\")\n",
        "plt.legend([\"Loss\", \"Validation Loss\"])\n",
        "\n",
        "plt.figure()\n",
        "\n"
      ],
      "execution_count": 16,
      "outputs": [
        {
          "output_type": "execute_result",
          "data": {
            "text/plain": [
              "<Figure size 432x288 with 0 Axes>"
            ]
          },
          "metadata": {
            "tags": []
          },
          "execution_count": 16
        },
        {
          "output_type": "display_data",
          "data": {
            "image/png": "[encoded data removed]",
            "text/plain": [
              "<Figure size 432x288 with 1 Axes>"
            ]
          },
          "metadata": {
            "tags": [],
            "needs_background": "light"
          }
        },
        {
          "output_type": "display_data",
          "data": {
            "image/png": "[encoded data removed]",
            "text/plain": [
              "<Figure size 432x288 with 1 Axes>"
            ]
          },
          "metadata": {
            "tags": [],
            "needs_background": "light"
          }
        },
        {
          "output_type": "display_data",
          "data": {
            "text/plain": [
              "<Figure size 432x288 with 0 Axes>"
            ]
          },
          "metadata": {
            "tags": []
          }
        }
      ]
    },
    {
      "cell_type": "code",
      "metadata": {
        "id": "zQFmWHYANKQP",
        "colab_type": "code",
        "colab": {
          "base_uri": "https://localhost:8080/",
          "height": 107
        },
        "outputId": "c6c2d0e0-f1b6-4e29-a98b-717d195f35dc"
      },
      "source": [
        "#saving the model if trained\n",
        "model.save('/content/drive/My Drive/sentiment analysis/fullmodel7374')"
      ],
      "execution_count": 17,
      "outputs": [
        {
          "output_type": "stream",
          "text": [
            "WARNING:tensorflow:From /usr/local/lib/python3.6/dist-packages/tensorflow/python/ops/resource_variable_ops.py:1817: calling BaseResourceVariable.__init__ (from tensorflow.python.ops.resource_variable_ops) with constraint is deprecated and will be removed in a future version.\n",
            "Instructions for updating:\n",
            "If using Keras pass *_constraint arguments to layers.\n",
            "INFO:tensorflow:Assets written to: /content/drive/My Drive/sentiment analysis/fullmodel7374/assets\n"
          ],
          "name": "stdout"
        }
      ]
    },
    {
      "cell_type": "code",
      "metadata": {
        "id": "y1hM_k5HjsZz",
        "colab_type": "code",
        "colab": {}
      },
      "source": [
        "import json"
      ],
      "execution_count": 18,
      "outputs": []
    },
    {
      "cell_type": "code",
      "metadata": {
        "id": "agYl9oYPjvDX",
        "colab_type": "code",
        "colab": {
          "base_uri": "https://localhost:8080/",
          "height": 34
        },
        "outputId": "eac7c0a0-7f8f-419b-b184-afa02a931edb"
      },
      "source": [
        "model_json = model.to_json()\n",
        "with open(\"/content/drive/My Drive/sentiment analysis/model.json\",\"w\") as json_file:\n",
        "  json_file.write(model_json)\n",
        "model.save_weights(\"/content/drive/My Drive/sentiment analysis/model.h5\")\n",
        "print(\"model saved to disk\")"
      ],
      "execution_count": 20,
      "outputs": [
        {
          "output_type": "stream",
          "text": [
            "model saved to disk\n"
          ],
          "name": "stdout"
        }
      ]
    },
    {
      "cell_type": "code",
      "metadata": {
        "id": "kuATFuDGVihY",
        "colab_type": "code",
        "colab": {}
      },
      "source": [
        "#load model\n",
        "\n",
        "model = tf.keras.models.load_model('/content/drive/My Drive/modelname')"
      ],
      "execution_count": null,
      "outputs": []
    },
    {
      "cell_type": "code",
      "metadata": {
        "id": "0x4B8ClENKZ7",
        "colab_type": "code",
        "colab": {
          "base_uri": "https://localhost:8080/",
          "height": 34
        },
        "outputId": "94d87584-3842-4f31-8596-de05b5d86779"
      },
      "source": [
        "#test data evaluation\n",
        "score = model.evaluate(test_seq, y_test, batch_size=64)"
      ],
      "execution_count": 23,
      "outputs": [
        {
          "output_type": "stream",
          "text": [
            "6/6 [==============================] - 0s 23ms/step - loss: 0.4761 - accuracy: 0.7967\n"
          ],
          "name": "stdout"
        }
      ]
    },
    {
      "cell_type": "code",
      "metadata": {
        "id": "Yb-QUTLLNKkV",
        "colab_type": "code",
        "colab": {
          "base_uri": "https://localhost:8080/",
          "height": 70
        },
        "outputId": "6791a2f5-f5e1-436a-9b97-f6e1e1c3142e"
      },
      "source": [
        "#here haven't used preprocessing functions as we are chcking with clean data but still need to add preprocess() function, that will be done in django\n",
        "\n",
        "twt = ['this product is horribl']\n",
        "twt = tokenizer.texts_to_sequences(twt)\n",
        "\n",
        "twt = padded = pad_sequences(twt, maxlen=100, padding = padding_type, truncating=trunc_type)\n",
        "#print(twt)\n",
        "sentiment = model.predict(twt,batch_size=1,verbose = 2)[0]\n",
        "ans = np.around(sentiment)\n",
        "print(sentiment)\n",
        "if ans ==1:\n",
        "  print('positive')\n",
        "else:\n",
        "  print('negative')"
      ],
      "execution_count": 42,
      "outputs": [
        {
          "output_type": "stream",
          "text": [
            "1/1 - 0s\n",
            "[0.03282413]\n",
            "negative\n"
          ],
          "name": "stdout"
        }
      ]
    },
    {
      "cell_type": "code",
      "metadata": {
        "id": "KAngPjtyrB-H",
        "colab_type": "code",
        "colab": {
          "base_uri": "https://localhost:8080/",
          "height": 125
        },
        "outputId": "55440ee5-511d-4c93-8126-b3c2296b35b1"
      },
      "source": [
        "from google.colab import drive\n",
        "drive.mount('/content/drive')"
      ],
      "execution_count": 2,
      "outputs": [
        {
          "output_type": "stream",
          "text": [
            "Go to this URL in a browser: https://accounts.google.com/o/oauth2/auth?client_id=947318989803-6bn6qk8qdgf4n4g3pfee6491hc0brc4i.apps.googleusercontent.com&redirect_uri=urn%3aietf%3awg%3aoauth%3a2.0%3aoob&response_type=code&scope=email%20https%3a%2f%2fwww.googleapis.com%2fauth%2fdocs.test%20https%3a%2f%2fwww.googleapis.com%2fauth%2fdrive%20https%3a%2f%2fwww.googleapis.com%2fauth%2fdrive.photos.readonly%20https%3a%2f%2fwww.googleapis.com%2fauth%2fpeopleapi.readonly\n",
            "\n",
            "Enter your authorization code:\n",
            "··········\n",
            "Mounted at /content/drive\n"
          ],
          "name": "stdout"
        }
      ]
    },
    {
      "cell_type": "code",
      "metadata": {
        "id": "QIhOLn7gNKuP",
        "colab_type": "code",
        "colab": {
          "base_uri": "https://localhost:8080/",
          "height": 210
        },
        "outputId": "ba9b2b50-03c3-447a-bdff-b1b8f4175b13"
      },
      "source": [
        "#django \n",
        "twt = \" your company is not providing proper service to consumers\"\n",
        "\n",
        "import re\n",
        "import string\n",
        "import numpy as np\n",
        "import pickle\n",
        "\n",
        "import tensorflow as tf\n",
        "from tensorflow.keras.preprocessing.text import Tokenizer\n",
        "from tensorflow.keras.preprocessing.sequence import pad_sequences\n",
        "import nltk\n",
        "from  nltk.stem import SnowballStemmer\n",
        "stemmer = SnowballStemmer(\"english\")\n",
        "\n",
        "embedding_dim = 100\n",
        "max_length = 100\n",
        "trunc_type='post'\n",
        "padding_type='post'\n",
        "oov_tok = \"<OOV>\"\n",
        "stop_words = ['i', 'me', 'my', 'myself', 'we', 'our', 'ours', 'ourselves', 'you', \"you're\", \"you've\", \"you'll\", \"you'd\", 'your', 'yours', 'yourself', 'yourselves', 'he', 'him', 'his', 'himself', 'she', \"she's\", 'her', 'hers', 'herself', 'it', \"it's\", 'its', 'itself', 'they', 'them', 'their', 'theirs', 'themselves', 'what', 'which', 'who', 'whom', 'this', 'that', \"that'll\", 'these', 'those', 'am', 'is', 'are', 'was', 'were', 'be', 'been', 'being', 'have', 'has', 'had', 'having', 'do', 'does', 'did', 'doing', 'a', 'an', 'the', 'and', 'but', 'if', 'or', 'because', 'as', 'until', 'while', 'of', 'at', 'by', 'for', 'with', 'about', 'against', 'between', 'into', 'through', 'during', 'before', 'after', 'above', 'below', 'to', 'from', 'up', 'down', 'in', 'out', 'on', 'off', 'over', 'under', 'again', 'further', 'then', 'once', 'here', 'there', 'when', 'where', 'why', 'how', 'all', 'any', 'both', 'each', 'few', 'more', 'most', 'other', 'some', 'such', 'nor', 'only', 'own', 'same', 'so', 'than', 'too', 'very', 's', 't', 'can', 'will', 'just', 'don', 'should', \"should've\", 'now', 'd', 'll', 'm', 'o', 're', 've', 'y', 'ain', 'aren', \"aren't\", 'couldn', \"couldn't\", 'didn', \"didn't\", 'doesn', \"doesn't\", 'hadn', \"hadn't\", 'hasn', \"hasn't\", 'haven', \"haven't\", 'isn', \"isn't\", 'ma', 'mightn', \"mightn't\", 'mustn', \"mustn't\", 'needn', \"needn't\", 'shan', \"shan't\", 'shouldn', \"shouldn't\", 'wasn', \"wasn't\", 'weren', \"weren't\", 'won', \"won't\", 'wouldn', \"wouldn't\"]\n",
        "#stop_words = ['list of stop words'] # i'll provide this\n",
        "\n",
        "def strip_links(text):\n",
        "    link_regex    = re.compile('((https?):((//)|(\\\\\\\\))+([\\w\\d:#@%/;$()~_?\\+-=\\\\\\.&](#!)?)*)', re.DOTALL)\n",
        "    links         = re.findall(link_regex, text)\n",
        "    for link in links:\n",
        "        text = text.replace(link[0], ', ')    \n",
        "    return text\n",
        "\n",
        "def strip_all_entities(text):\n",
        "    entity_prefixes = ['@','#']\n",
        "    for separator in  string.punctuation:\n",
        "        if separator not in entity_prefixes :\n",
        "            text = text.replace(separator,' ')\n",
        "    words = []\n",
        "    for word in text.split():\n",
        "        word = word.strip()\n",
        "        if word:\n",
        "            if word[0] not in entity_prefixes:\n",
        "                words.append(word)\n",
        "    return ' '.join(words)\n",
        "\n",
        "def preprocess(line):\n",
        "    line = line.lower()\n",
        "    #stopwords removal\n",
        "    for word in stop_words:\n",
        "      token = \" \" + word + \" \"\n",
        "      line = line.replace(token, \" \")\n",
        "      line = line.replace(\"  \", \" \")\n",
        "    #stemming   \n",
        "    tokens = []\n",
        "    for token in line.split():\n",
        "      tokens.append(stemmer.stem(token))\n",
        "    return \" \".join(tokens)\n",
        "\n",
        "twt = strip_links(twt)    #optional\n",
        "twt = strip_all_entities(twt)  #optional (it removes @username #name)\n",
        "twt = preprocess(twt)\n",
        "#print(twt)\n",
        "list_form = []        # convert to ['input']\n",
        "list_form.append(twt)\n",
        "\n",
        "tokenizer= Tokenizer(oov_token=oov_tok)\n",
        "tokenizer = pickle.load(open(\"/content/drive/My Drive/sentiment analysis/tokenizer.p\", \"rb\"))\n",
        "##word_index = pickle.load(open(\"/content/drive/My Drive/sentiment analysis/wordindex.p\", \"rb\"))    #these two lines can be omitted, just kept here to see word word index\n",
        "##vocab_size = len(word_index)\n",
        "model = tf.keras.models.load_model('/content/drive/My Drive/sentiment analysis/fullmodel7374')\n",
        "\n",
        "twt = tokenizer.texts_to_sequences(list_form)\n",
        "twt = pad_sequences(twt, maxlen=max_length, padding = padding_type, truncating=trunc_type)\n",
        "\n",
        "print(twt)\n",
        "sentiment = model.predict(twt,batch_size=1,verbose = 2)[0]\n",
        "ans = np.around(sentiment)\n",
        "print(sentiment)\n",
        "if ans ==1:\n",
        "  print('positive')\n",
        "else:\n",
        "  print('negative')"
      ],
      "execution_count": 11,
      "outputs": [
        {
          "output_type": "stream",
          "text": [
            "[[ 454  888  201 2366 1133  807 3593    0    0    0    0    0    0    0\n",
            "     0    0    0    0    0    0    0    0    0    0    0    0    0    0\n",
            "     0    0    0    0    0    0    0    0    0    0    0    0    0    0\n",
            "     0    0    0    0    0    0    0    0    0    0    0    0    0    0\n",
            "     0    0    0    0    0    0    0    0    0    0    0    0    0    0\n",
            "     0    0    0    0    0    0    0    0    0    0    0    0    0    0\n",
            "     0    0    0    0    0    0    0    0    0    0    0    0    0    0\n",
            "     0    0]]\n",
            "1/1 - 0s\n",
            "[0.3202141]\n",
            "negative\n"
          ],
          "name": "stdout"
        }
      ]
    },
    {
      "cell_type": "code",
      "metadata": {
        "id": "iZGiel0YNK20",
        "colab_type": "code",
        "colab": {}
      },
      "source": [
        ""
      ],
      "execution_count": null,
      "outputs": []
    },
    {
      "cell_type": "code",
      "metadata": {
        "id": "17sBxqUiNLJ0",
        "colab_type": "code",
        "colab": {}
      },
      "source": [
        ""
      ],
      "execution_count": null,
      "outputs": []
    }
  ]
}